{
  "cells": [
    {
      "cell_type": "code",
      "execution_count": null,
      "metadata": {
        "id": "x_iwxq31eOs5"
      },
      "outputs": [],
      "source": [
        "%pip install -q segment-geospatial segment-anything-fast gradio"
      ]
    },
    {
      "cell_type": "code",
      "execution_count": 2,
      "metadata": {
        "colab": {
          "base_uri": "https://localhost:8080/"
        },
        "id": "VR64B6HYfpHx",
        "outputId": "2a4ecccf-7321-4d0f-95a3-2bc2dc84ecc3"
      },
      "outputs": [
        {
          "output_type": "stream",
          "name": "stdout",
          "text": [
            "Downloading FastSAM-x.pt to /root/.cache/torch/hub/checkpoints/FastSAM-x.pt...\n"
          ]
        },
        {
          "output_type": "stream",
          "name": "stderr",
          "text": [
            "Downloading...\n",
            "From: https://drive.google.com/uc?id=1m1sjY4ihXBU1fZXdQ-Xdj-mDltW-2Rqv\n",
            "To: /root/.cache/torch/hub/checkpoints/FastSAM-x.pt\n",
            "100%|██████████| 145M/145M [00:03<00:00, 37.5MB/s]\n",
            "Downloading https://github.com/ultralytics/assets/releases/download/v0.0.0/FastSAM-x.pt to FastSAM-x.pt...\n",
            "100%|██████████| 138M/138M [00:02<00:00, 50.7MB/s]\n"
          ]
        }
      ],
      "source": [
        "from PIL import Image\n",
        "from samgeo.fast_sam import SamGeo\n",
        "import matplotlib\n",
        "matplotlib.use('Agg')\n",
        "sam = SamGeo(model=\"FastSAM-x.pt\")"
      ]
    },
    {
      "cell_type": "code",
      "execution_count": 3,
      "metadata": {
        "id": "woLcLNXgv7uU"
      },
      "outputs": [],
      "source": [
        "def run(img) :\n",
        "  sam.set_image(img)\n",
        "  sam.everything_prompt(output=\"mask.tif\")\n",
        "  result = sam.show_anns(\"mask.png\")\n",
        "  result = Image.open(\"mask.png\")\n",
        "  return result"
      ]
    },
    {
      "cell_type": "code",
      "execution_count": 4,
      "metadata": {
        "id": "A-WfUZublTZr"
      },
      "outputs": [],
      "source": [
        "import gradio as gr"
      ]
    },
    {
      "cell_type": "code",
      "execution_count": null,
      "metadata": {
        "id": "qUaUOqi4jRhx"
      },
      "outputs": [],
      "source": [
        "# Define Gradio interface\n",
        "iface = gr.Interface(\n",
        "    fn=run,\n",
        "    inputs=gr.Image(label=\"Input Image\"),\n",
        "    outputs=gr.Image(label=\"Output image with predicted instance Masks\", type=\"pil\"),\n",
        "    title=\"Fast SAM Satellite Imagery Segmentation\",\n",
        "    allow_flagging=False ,\n",
        "    description=\"Segment Satellite imagery using Fast Segment Anything Model (SAM).\",\n",
        ")\n",
        "\n",
        "# Launch the Gradio app\n",
        "iface.launch(share=True , debug=True)"
      ]
    }
  ],
  "metadata": {
    "accelerator": "GPU",
    "colab": {
      "provenance": []
    },
    "kernelspec": {
      "display_name": "Python 3",
      "name": "python3"
    },
    "language_info": {
      "codemirror_mode": {
        "name": "ipython",
        "version": 3
      },
      "file_extension": ".py",
      "mimetype": "text/x-python",
      "name": "python",
      "nbconvert_exporter": "python",
      "pygments_lexer": "ipython3",
      "version": "3.9.16"
    }
  },
  "nbformat": 4,
  "nbformat_minor": 0
}